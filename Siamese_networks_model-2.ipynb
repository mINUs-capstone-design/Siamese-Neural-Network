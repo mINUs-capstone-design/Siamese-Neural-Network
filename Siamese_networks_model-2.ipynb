{
  "nbformat": 4,
  "nbformat_minor": 0,
  "metadata": {
    "colab": {
      "provenance": []
    },
    "kernelspec": {
      "name": "python3",
      "display_name": "Python 3"
    },
    "language_info": {
      "name": "python"
    }
  },
  "cells": [
    {
      "cell_type": "code",
      "execution_count": null,
      "metadata": {
        "id": "B3o2veaw9Q7O"
      },
      "outputs": [],
      "source": [
        "%matplotlib inline\n",
        "import torchvision\n",
        "import torchvision.datasets as dset\n",
        "import torchvision.transforms as transforms\n",
        "from torch.utils.data import DataLoader,Dataset\n",
        "import matplotlib.pyplot as plt\n",
        "import torchvision.utils\n",
        "import numpy as np\n",
        "import random\n",
        "from PIL import Image\n",
        "import torch\n",
        "from torch.autograd import Variable\n",
        "import PIL.ImageOps\n",
        "import torch.nn as nn\n",
        "from torch import optim\n",
        "import torch.nn.functional as F"
      ]
    },
    {
      "cell_type": "code",
      "source": [
        "from google.colab import drive\n",
        "drive.mount('/content/drive')"
      ],
      "metadata": {
        "id": "ovQnuXcIQ6FP"
      },
      "execution_count": null,
      "outputs": []
    },
    {
      "cell_type": "code",
      "source": [
        "def imshow(img,text=None,should_save=False):\n",
        "    npimg = img.numpy()\n",
        "    plt.axis(\"off\")\n",
        "    if text:\n",
        "        plt.text(75, 8, text, style='italic',fontweight='bold',\n",
        "            bbox={'facecolor':'white', 'alpha':0.8, 'pad':10})\n",
        "    plt.imshow(np.transpose(npimg, (1, 2, 0)))\n",
        "    plt.show()\n",
        "\n",
        "def show_plot(iteration,loss):\n",
        "    plt.plot(iteration,loss)\n",
        "    plt.show()"
      ],
      "metadata": {
        "id": "AxVnAve49zws"
      },
      "execution_count": null,
      "outputs": []
    },
    {
      "cell_type": "code",
      "source": [
        "class Config():\n",
        "    training_dir = \"/content/drive/MyDrive/training\"\n",
        "    testing_dir = \"/content/drive/MyDrive/testing\"\n",
        "    train_batch_size = 64\n",
        "    train_number_epochs = 100\n",
        "\n",
        "\n"
      ],
      "metadata": {
        "id": "TA6xiFTOTl_e"
      },
      "execution_count": null,
      "outputs": []
    },
    {
      "cell_type": "code",
      "source": [
        "class SiameseNetworkDataset(Dataset):\n",
        "\n",
        "    def __init__(self,imageFolderDataset,transform=None,should_invert=False):\n",
        "        self.imageFolderDataset = imageFolderDataset\n",
        "        self.transform = transform\n",
        "        self.should_invert = should_invert\n",
        "\n",
        "    def __getitem__(self,index):\n",
        "        img0_tuple = random.choice(self.imageFolderDataset.imgs)\n",
        "        #we need to make sure approx 50% of images are in the same class\n",
        "        should_get_same_class = random.randint(0,1)\n",
        "        if should_get_same_class:\n",
        "            while True:\n",
        "                #keep looping till the same class image is found\n",
        "                img1_tuple = random.choice(self.imageFolderDataset.imgs)\n",
        "                if img0_tuple[1]==img1_tuple[1]:\n",
        "                    break\n",
        "        else:\n",
        "            while True:\n",
        "                #keep looping till a different class image is found\n",
        "\n",
        "                img1_tuple = random.choice(self.imageFolderDataset.imgs)\n",
        "                if img0_tuple[1] !=img1_tuple[1]:\n",
        "                    break\n",
        "\n",
        "        img0 = Image.open(img0_tuple[0])\n",
        "        img1 = Image.open(img1_tuple[0])\n",
        "        #img0 = img0.convert(\"L\")\n",
        "        #img1 = img1.convert(\"L\")\n",
        "\n",
        "        if self.should_invert:\n",
        "            img0 = PIL.ImageOps.invert(img0)\n",
        "            img1 = PIL.ImageOps.invert(img1)\n",
        "\n",
        "        if self.transform is not None:\n",
        "            img0 = self.transform(img0)\n",
        "            img1 = self.transform(img1)\n",
        "\n",
        "        return img0, img1 , torch.from_numpy(np.array([int(img1_tuple[1]!=img0_tuple[1])],dtype=np.float32))\n",
        "        # 두 이미지가 서로 다른 클래스면 1\n",
        "        # 두 이미지가 서로 같은 클래스면 0\n",
        "\n",
        "    def __len__(self):\n",
        "        return len(self.imageFolderDataset.imgs)"
      ],
      "metadata": {
        "id": "YJpbxcpaaDjp"
      },
      "execution_count": null,
      "outputs": []
    },
    {
      "cell_type": "code",
      "source": [
        "folder_dataset = dset.ImageFolder(root=Config.training_dir)\n",
        "\n",
        "siamese_dataset = SiameseNetworkDataset(imageFolderDataset=folder_dataset,\n",
        "                                        transform=transforms.Compose([transforms.Resize((99,250)),transforms.ToTensor()])\n",
        "                                       ,should_invert=False)\n",
        "\n",
        "\n",
        "vis_dataloader = DataLoader(siamese_dataset,\n",
        "                        shuffle=True,\n",
        "                        num_workers=8,\n",
        "                        batch_size=8)\n",
        "dataiter = iter(vis_dataloader)\n",
        "\n",
        "example_batch = next(dataiter)\n",
        "concatenated = torch.cat((example_batch[0],example_batch[1]),0)\n",
        "imshow(torchvision.utils.make_grid(concatenated)) # 여러 개 이미지 합쳐서 grid로 반환\n",
        "print(example_batch[2].numpy()) # 두 이미지가 같은 클래스인지에 대한 label"
      ],
      "metadata": {
        "id": "4haRC2NKfK_X"
      },
      "execution_count": null,
      "outputs": []
    },
    {
      "cell_type": "code",
      "source": [
        "\n",
        "class SiameseNetwork(nn.Module):\n",
        "    def __init__(self):\n",
        "        super(SiameseNetwork, self).__init__()\n",
        "        self.cnn1 = nn.Sequential(\n",
        "            nn.ReflectionPad2d(1), # 가장자리의 특징들까지 고려\n",
        "            nn.Conv2d(3, 4, kernel_size=3),\n",
        "            nn.ReLU(inplace=True),\n",
        "            nn.BatchNorm2d(4),\n",
        "\n",
        "            nn.ReflectionPad2d(1),\n",
        "            nn.Conv2d(4, 8, kernel_size=3),\n",
        "            nn.ReLU(inplace=True),\n",
        "            nn.BatchNorm2d(8),\n",
        "\n",
        "\n",
        "            nn.ReflectionPad2d(1),\n",
        "            nn.Conv2d(8, 8, kernel_size=3),\n",
        "            nn.ReLU(inplace=True),\n",
        "            nn.BatchNorm2d(8),\n",
        "\n",
        "\n",
        "        )\n",
        "\n",
        "        self.fc1 = nn.Sequential(\n",
        "            nn.Linear(8*99*250, 500),\n",
        "            nn.ReLU(inplace=True),\n",
        "\n",
        "            nn.Linear(500, 500),\n",
        "            nn.ReLU(inplace=True),\n",
        "\n",
        "            nn.Linear(500, 5))\n",
        "\n",
        "    def forward_once(self, x):\n",
        "        output = self.cnn1(x)\n",
        "        output = output.view(output.size()[0], -1) # flatten\n",
        "        output = self.fc1(output)\n",
        "        return output\n",
        "\n",
        "    def forward(self, input1, input2):\n",
        "        output1 = self.forward_once(input1)\n",
        "        output2 = self.forward_once(input2)\n",
        "        return output1, output2"
      ],
      "metadata": {
        "id": "ziDYuqMoaf7r"
      },
      "execution_count": null,
      "outputs": []
    },
    {
      "cell_type": "code",
      "source": [
        "class ContrastiveLoss(torch.nn.Module):\n",
        "                                    # margin : 클래스가 다른 두 샘플 간의 최소한의 거리 값. 클래스가 다른 두 샘플간의 거리가 margin 이상이 되도록 학습.\n",
        "    def __init__(self, margin=2.0): # 서로 class가 다를 때, margin값을 기준으로 두 이미지 간의 거리를 조절. 두 이미지 사이의 거리가 margin값보다 클 때 까지 손실이 발생\n",
        "        super(ContrastiveLoss, self).__init__()\n",
        "        self.margin = margin\n",
        "\n",
        "    def forward(self, output1, output2, label):\n",
        "        euclidean_distance = F.pairwise_distance(output1, output2, keepdim = True)\n",
        "        # print(f\"label : {label}, distance : {euclidean_distance}\")\n",
        "\n",
        "        loss_contrastive = torch.mean((1-label) * torch.pow(euclidean_distance, 2) + # 같은 클래스 쌍에 대한 손실\n",
        "                                      (label) * torch.pow(torch.clamp(self.margin - euclidean_distance, min=0.0), 2)) # 다른 클래스 쌍에 대한 손실\n",
        "\n",
        "        return loss_contrastive"
      ],
      "metadata": {
        "id": "cxriHWXpalfy"
      },
      "execution_count": null,
      "outputs": []
    },
    {
      "cell_type": "code",
      "source": [
        "train_dataloader = DataLoader(siamese_dataset,\n",
        "                        shuffle=True,\n",
        "                        num_workers=8,\n",
        "                        batch_size=Config.train_batch_size)\n",
        "\n",
        "\n",
        "net = SiameseNetwork()#.cuda()\n",
        "criterion = ContrastiveLoss()\n",
        "optimizer = optim.Adam(net.parameters(),lr = 0.0005 )\n",
        "\n",
        "\n",
        "counter = []\n",
        "loss_history = []\n",
        "iteration_number= 0\n",
        "\n",
        "\n",
        "for epoch in range(0,Config.train_number_epochs):\n",
        "    for i, data in enumerate(train_dataloader,0):\n",
        "        img0, img1 , label = data\n",
        "        #img0, img1 , label = img0.cuda(), img1.cuda() , label.cuda()\n",
        "        optimizer.zero_grad()\n",
        "        output1,output2 = net(img0,img1)\n",
        "        loss_contrastive = criterion(output1,output2,label)\n",
        "        loss_contrastive.backward()\n",
        "        optimizer.step()\n",
        "        if i %10 == 0 :\n",
        "            print(\"Epoch number {}\\n Current loss {}\\n\".format(epoch,loss_contrastive.item()))\n",
        "            iteration_number +=10\n",
        "            counter.append(iteration_number)\n",
        "            loss_history.append(loss_contrastive.item())\n",
        "show_plot(counter,loss_history)"
      ],
      "metadata": {
        "id": "bZQFAw_QO2H1"
      },
      "execution_count": null,
      "outputs": []
    },
    {
      "cell_type": "code",
      "source": [
        "print(loss_history[-1])"
      ],
      "metadata": {
        "id": "8GH6noxCppDx"
      },
      "execution_count": null,
      "outputs": []
    },
    {
      "cell_type": "code",
      "source": [
        "torch.save(net,'siamese_net_v4_cpu.pt')"
      ],
      "metadata": {
        "id": "xVBrTmt1lloK"
      },
      "execution_count": null,
      "outputs": []
    },
    {
      "cell_type": "code",
      "source": [
        "device = \"cuda\" if torch.cuda.is_available() else \"cpu\"\n",
        "model = torch.load(\"siamese_net_v4.pt\", map_location=device)\n",
        "print(model)"
      ],
      "metadata": {
        "id": "KxKJleOCmYpi"
      },
      "execution_count": null,
      "outputs": []
    },
    {
      "cell_type": "code",
      "source": [
        "folder_dataset_test = dset.ImageFolder(root=Config.testing_dir)\n",
        "siamese_dataset = SiameseNetworkDataset(imageFolderDataset=folder_dataset_test,\n",
        "                                        transform=transforms.Compose([transforms.Resize((99,250)),\n",
        "                                                                      transforms.ToTensor()\n",
        "                                                                      ])\n",
        "                                       ,should_invert=False)\n",
        "\n",
        "test_dataloader = DataLoader(siamese_dataset,num_workers=1,batch_size=1,shuffle=True) # 1장씩 test\n",
        "\n",
        "\n",
        "dataiter = iter(test_dataloader)\n",
        "# x0,x1,label1 = next(dataiter) # test의 기준이 되는 img.\n",
        "# 0 : same class , 1 : other class\n",
        "\n",
        "for i in range(10):\n",
        "    x0,x1,label1 = next(dataiter)\n",
        "    concatenated = torch.cat((x0,x1),0)\n",
        "\n",
        "    # output1,output2 = net(Variable(x0).cuda(),Variable(x1).cuda())\n",
        "    output1,output2 = net(Variable(x0),Variable(x1))\n",
        "    euclidean_distance = F.pairwise_distance(output1, output2)\n",
        "    imshow(torchvision.utils.make_grid(concatenated),'isNotSame : {:.0f}\\nDissimilarity: {:.2f}'.format(label1.item(),euclidean_distance.item()))"
      ],
      "metadata": {
        "id": "9lk9aYzJk6O6"
      },
      "execution_count": null,
      "outputs": []
    },
    {
      "cell_type": "code",
      "source": [
        "def compute_accuracy(model, test_loader, threshold=1.0): # margin 1.0 -> 0.74\n",
        "    correct = 0\n",
        "    total = 0\n",
        "\n",
        "    model.eval()  # 평가 모드로 설정\n",
        "\n",
        "    with torch.no_grad():\n",
        "        for data1, data2, labels in test_loader:\n",
        "\n",
        "            # data1, data2, labels = data1.cuda(), data2.cuda(), labels.cuda()\n",
        "            output1, output2 = model(data1, data2)\n",
        "\n",
        "            euclidean_distance = F.pairwise_distance(output1, output2)\n",
        "            predicted = (euclidean_distance > threshold).float()  # 유사성을 확인하기 위한 임계값 적용\n",
        "            correct += (predicted == labels).sum().item()\n",
        "            total += labels.size(0)\n",
        "\n",
        "    accuracy = correct / total\n",
        "    accuracy *= 100\n",
        "    return accuracy\n",
        "\n",
        "result = 0\n",
        "for i in range(0,100):\n",
        "  acc = int(compute_accuracy(net, test_dataloader))\n",
        "  result += acc\n",
        "print(\"accuracy : {}%\".format(result/100))"
      ],
      "metadata": {
        "id": "TIhKGE7YZQ_U"
      },
      "execution_count": null,
      "outputs": []
    }
  ]
}